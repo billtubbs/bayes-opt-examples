{
 "cells": [
  {
   "cell_type": "markdown",
   "id": "c4b24fb0",
   "metadata": {},
   "source": [
    "# System Identification - FOPDT Model"
   ]
  },
  {
   "cell_type": "code",
   "execution_count": 1,
   "id": "66c93faa",
   "metadata": {},
   "outputs": [
    {
     "data": {
      "text/plain": [
       "'1.0.1'"
      ]
     },
     "execution_count": 1,
     "metadata": {},
     "output_type": "execute_result"
    }
   ],
   "source": [
    "import os\n",
    "import numpy as np\n",
    "import pandas as pd\n",
    "import matplotlib.pyplot as plt\n",
    "import numba as nb\n",
    "\n",
    "import lpfgopt\n",
    "lpfgopt.__version__"
   ]
  },
  {
   "cell_type": "markdown",
   "id": "add5c8ec",
   "metadata": {},
   "source": [
    "## Load Input-Output Dataset"
   ]
  },
  {
   "cell_type": "code",
   "execution_count": 2,
   "id": "44238695",
   "metadata": {},
   "outputs": [
    {
     "data": {
      "text/plain": [
       "['io_data_fopdt.csv']"
      ]
     },
     "execution_count": 2,
     "metadata": {},
     "output_type": "execute_result"
    }
   ],
   "source": [
    "data_dir = 'data'\n",
    "os.listdir(data_dir)"
   ]
  },
  {
   "cell_type": "code",
   "execution_count": 3,
   "id": "fd06d5bb",
   "metadata": {},
   "outputs": [
    {
     "data": {
      "text/html": [
       "<div>\n",
       "<style scoped>\n",
       "    .dataframe tbody tr th:only-of-type {\n",
       "        vertical-align: middle;\n",
       "    }\n",
       "\n",
       "    .dataframe tbody tr th {\n",
       "        vertical-align: top;\n",
       "    }\n",
       "\n",
       "    .dataframe thead th {\n",
       "        text-align: right;\n",
       "    }\n",
       "</style>\n",
       "<table border=\"1\" class=\"dataframe\">\n",
       "  <thead>\n",
       "    <tr style=\"text-align: right;\">\n",
       "      <th></th>\n",
       "      <th>Output</th>\n",
       "      <th>Time</th>\n",
       "      <th>Input1</th>\n",
       "      <th>Input2</th>\n",
       "    </tr>\n",
       "  </thead>\n",
       "  <tbody>\n",
       "    <tr>\n",
       "      <th>0</th>\n",
       "      <td>529.43</td>\n",
       "      <td>5011.92</td>\n",
       "      <td>3.8</td>\n",
       "      <td>950.433</td>\n",
       "    </tr>\n",
       "    <tr>\n",
       "      <th>1</th>\n",
       "      <td>529.41</td>\n",
       "      <td>5027.04</td>\n",
       "      <td>3.8</td>\n",
       "      <td>951.558</td>\n",
       "    </tr>\n",
       "    <tr>\n",
       "      <th>2</th>\n",
       "      <td>529.36</td>\n",
       "      <td>5042.16</td>\n",
       "      <td>3.8</td>\n",
       "      <td>948.592</td>\n",
       "    </tr>\n",
       "    <tr>\n",
       "      <th>3</th>\n",
       "      <td>529.32</td>\n",
       "      <td>5057.28</td>\n",
       "      <td>3.9</td>\n",
       "      <td>947.967</td>\n",
       "    </tr>\n",
       "    <tr>\n",
       "      <th>4</th>\n",
       "      <td>529.25</td>\n",
       "      <td>5072.04</td>\n",
       "      <td>3.9</td>\n",
       "      <td>951.153</td>\n",
       "    </tr>\n",
       "    <tr>\n",
       "      <th>...</th>\n",
       "      <td>...</td>\n",
       "      <td>...</td>\n",
       "      <td>...</td>\n",
       "      <td>...</td>\n",
       "    </tr>\n",
       "    <tr>\n",
       "      <th>876</th>\n",
       "      <td>482.21</td>\n",
       "      <td>18171.00</td>\n",
       "      <td>6.4</td>\n",
       "      <td>933.481</td>\n",
       "    </tr>\n",
       "    <tr>\n",
       "      <th>877</th>\n",
       "      <td>480.75</td>\n",
       "      <td>18186.12</td>\n",
       "      <td>6.4</td>\n",
       "      <td>933.328</td>\n",
       "    </tr>\n",
       "    <tr>\n",
       "      <th>878</th>\n",
       "      <td>479.00</td>\n",
       "      <td>18201.24</td>\n",
       "      <td>6.4</td>\n",
       "      <td>936.604</td>\n",
       "    </tr>\n",
       "    <tr>\n",
       "      <th>879</th>\n",
       "      <td>477.03</td>\n",
       "      <td>18216.00</td>\n",
       "      <td>6.4</td>\n",
       "      <td>935.107</td>\n",
       "    </tr>\n",
       "    <tr>\n",
       "      <th>880</th>\n",
       "      <td>474.79</td>\n",
       "      <td>18231.12</td>\n",
       "      <td>6.4</td>\n",
       "      <td>936.166</td>\n",
       "    </tr>\n",
       "  </tbody>\n",
       "</table>\n",
       "<p>881 rows × 4 columns</p>\n",
       "</div>"
      ],
      "text/plain": [
       "     Output      Time  Input1   Input2\n",
       "0    529.43   5011.92     3.8  950.433\n",
       "1    529.41   5027.04     3.8  951.558\n",
       "2    529.36   5042.16     3.8  948.592\n",
       "3    529.32   5057.28     3.9  947.967\n",
       "4    529.25   5072.04     3.9  951.153\n",
       "..      ...       ...     ...      ...\n",
       "876  482.21  18171.00     6.4  933.481\n",
       "877  480.75  18186.12     6.4  933.328\n",
       "878  479.00  18201.24     6.4  936.604\n",
       "879  477.03  18216.00     6.4  935.107\n",
       "880  474.79  18231.12     6.4  936.166\n",
       "\n",
       "[881 rows x 4 columns]"
      ]
     },
     "execution_count": 3,
     "metadata": {},
     "output_type": "execute_result"
    }
   ],
   "source": [
    "filename = 'io_data_fopdt.csv'\n",
    "input_output_data = pd.read_csv(os.path.join(data_dir, filename))\n",
    "input_output_data"
   ]
  },
  {
   "cell_type": "code",
   "execution_count": 4,
   "id": "17e17c30",
   "metadata": {},
   "outputs": [
    {
     "data": {
      "image/png": "[encoded data removed]",
      "text/plain": [
       "<Figure size 700x550 with 3 Axes>"
      ]
     },
     "metadata": {},
     "output_type": "display_data"
    }
   ],
   "source": [
    "fig, axes = plt.subplots(3, 1, sharex=True, figsize=(7, 5.5))\n",
    "\n",
    "data = input_output_data.set_index('Time')\n",
    "\n",
    "for ax, name in zip(axes, data.columns):\n",
    "    data[name].plot(ax=ax, grid=True, title=name)\n",
    "\n",
    "plt.tight_layout()\n",
    "plt.show()"
   ]
  },
  {
   "cell_type": "markdown",
   "id": "4e5796fe",
   "metadata": {},
   "source": [
    "## Implement Simulation Function"
   ]
  },
  {
   "cell_type": "markdown",
   "id": "6ae87795",
   "metadata": {},
   "source": [
    "VBA code from Russ\n",
    "\n",
    "```basic\n",
    "Ndelay=INT(thetamodel/dt + 0.5)                         ‘discretized model delay\n",
    "clambda = Exp(-dt / Taumodel)                                             ‘model coefficient\n",
    "lambda = 1 – clambda                                               ‘complement to model coefficient\n",
    "ymodeldev = Yinitial – Ybase                                  ‘initial deviation variable value for model\n",
    "SSD = 0                                                                                          ‘initialize the Sum of Squared Deviations\n",
    "For DataNumber = Ndelay + 1 To Ndata                            ‘start with first value after the delay\n",
    "                influence = udata(DataNumber - Ndelay) – Ubase                       ‘calculate influence\n",
    "                ymodeldev = lambda * Kmodel * influence + clambda * ymodeldev               ‘model\n",
    "                ymodel(DataNumber) = ymodeldev + Ybase                                  ‘convert to CV\n",
    "                SSD = SSD + (ymodel(DataNumber) – ydata(DataNumber))^2 ‘sum d^2\n",
    "Next DataNumber\n",
    "```"
   ]
  },
  {
   "cell_type": "code",
   "execution_count": 5,
   "id": "aac408eb",
   "metadata": {},
   "outputs": [],
   "source": [
    "def make_simulate_function(dt, u_data):\n",
    "    n_data = u_data.shape[0]\n",
    "\n",
    "    @nb.njit\n",
    "    def simulate(\n",
    "        K: float, \n",
    "        tau: float, \n",
    "        n_delay: int, \n",
    "        y_base: float,\n",
    "        u_base: float, \n",
    "        y_init: float \n",
    "    ) -> np.ndarray:\n",
    "        alpha_comp = np.exp(-dt / tau)\n",
    "        alpha = 1.0 - alpha_comp\n",
    "        y_dev = y_init - y_base\n",
    "        y_model = np.full((n_data, ), np.nan)  # Initialize array\n",
    "        for k in range(n_delay + 1, n_data):\n",
    "            influence = u_data[k - n_delay] - u_base\n",
    "            y_dev = alpha * K * influence + alpha_comp * y_dev\n",
    "            y_model[k] = y_dev + y_base\n",
    "        return y_model  # Add return statement\n",
    "\n",
    "    return simulate\n",
    "\n",
    "\n",
    "def prediction_error(y_model, y_data):\n",
    "    ssd = np.sum((y_model - y_data) ** 2)\n",
    "    return ssd\n"
   ]
  },
  {
   "cell_type": "code",
   "execution_count": 6,
   "id": "b2dbc035",
   "metadata": {},
   "outputs": [
    {
     "data": {
      "text/plain": [
       "np.float64(15.02181818181818)"
      ]
     },
     "execution_count": 6,
     "metadata": {},
     "output_type": "execute_result"
    }
   ],
   "source": [
    "input_col = 'Input1'\n",
    "t = input_output_data['Time'].to_numpy()\n",
    "u_data = input_output_data[input_col].to_numpy()\n",
    "y_data = input_output_data['Output'].to_numpy()\n",
    "\n",
    "# Determine average time interval\n",
    "time_step_sizes = np.diff(t)\n",
    "dt = np.mean(time_step_sizes)\n",
    "assert np.max(np.abs(time_step_sizes - dt)) < dt / 10\n",
    "dt"
   ]
  },
  {
   "cell_type": "code",
   "execution_count": 7,
   "id": "859a1d54",
   "metadata": {},
   "outputs": [
    {
     "data": {
      "text/plain": [
       "CPUDispatcher(<function make_simulate_function.<locals>.simulate at 0x1510a2170>)"
      ]
     },
     "execution_count": 7,
     "metadata": {},
     "output_type": "execute_result"
    }
   ],
   "source": [
    "simulate = make_simulate_function(dt, u_data)\n",
    "simulate"
   ]
  },
  {
   "cell_type": "code",
   "execution_count": 8,
   "id": "c34fc487",
   "metadata": {},
   "outputs": [],
   "source": [
    "# Test simulate function\n",
    "K = -10.0\n",
    "tau = 400.0 \n",
    "n_delay = 2  # must be integer \n",
    "y_base = 500.0\n",
    "u_base =5.0\n",
    "y_init = 500.0\n",
    "\n",
    "y_model = simulate(K, tau, n_delay, y_base, u_base, y_init)\n",
    "assert y_model.shape == u_data.shape\n",
    "assert np.all(np.isnan(y_model[:n_delay+1]))\n",
    "assert np.all(~np.isnan(y_model[n_delay+1:]))"
   ]
  },
  {
   "cell_type": "code",
   "execution_count": 9,
   "id": "1136af62",
   "metadata": {},
   "outputs": [
    {
     "data": {
      "text/plain": [
       "np.float64(27352.792889210206)"
      ]
     },
     "execution_count": 9,
     "metadata": {},
     "output_type": "execute_result"
    }
   ],
   "source": [
    "prediction_error(y_model[n_delay+1:], y_data[n_delay+1:])"
   ]
  },
  {
   "cell_type": "code",
   "execution_count": 10,
   "id": "017ff345",
   "metadata": {},
   "outputs": [
    {
     "data": {
      "image/png": "[encoded data removed]",
      "text/plain": [
       "<Figure size 700x250 with 1 Axes>"
      ]
     },
     "metadata": {},
     "output_type": "display_data"
    }
   ],
   "source": [
    "plt.figure(figsize=(7, 2.5))\n",
    "plt.plot(t, input_output_data[\"Output\"].to_numpy(), label='data')\n",
    "plt.plot(t, y_model, label='y_model')\n",
    "plt.xlabel('Time')\n",
    "plt.grid()\n",
    "plt.legend()\n",
    "plt.tight_layout()\n",
    "plt.show()"
   ]
  },
  {
   "cell_type": "code",
   "execution_count": 11,
   "id": "cb5eb49d",
   "metadata": {},
   "outputs": [
    {
     "name": "stdout",
     "output_type": "stream",
     "text": [
      "CPU times: user 17 μs, sys: 0 ns, total: 17 μs\n",
      "Wall time: 18.8 μs\n"
     ]
    }
   ],
   "source": [
    "%%time\n",
    "\n",
    "y_model = simulate(K, tau, n_delay, y_base, u_base, y_init)"
   ]
  },
  {
   "cell_type": "markdown",
   "id": "bc4ef2d5",
   "metadata": {},
   "source": [
    "## Construct Optimization Cost Function"
   ]
  },
  {
   "cell_type": "code",
   "execution_count": 12,
   "id": "f222d5b5",
   "metadata": {},
   "outputs": [
    {
     "data": {
      "text/plain": [
       "np.float64(27352.792889210206)"
      ]
     },
     "execution_count": 12,
     "metadata": {},
     "output_type": "execute_result"
    }
   ],
   "source": [
    "def function_to_minimize(x):\n",
    "    K = x[0]\n",
    "    tau = x[1]\n",
    "    n_delay = x[2] if isinstance(x[2], int) else int(x[2] / dt + 0.5)\n",
    "    y_base = x[3]\n",
    "    u_base = x[4]\n",
    "    y_init = x[5]\n",
    "    y_model = simulate(K, tau, n_delay, y_base, u_base, y_init)\n",
    "    ssd = prediction_error(y_model[n_delay+1:], y_data[n_delay+1:])\n",
    "    return ssd\n",
    "\n",
    "\n",
    "x = [K, tau, n_delay, y_base, u_base, y_init]\n",
    "ssd = function_to_minimize(x)\n",
    "ssd"
   ]
  },
  {
   "cell_type": "code",
   "execution_count": 13,
   "id": "f8365d36",
   "metadata": {},
   "outputs": [],
   "source": [
    "# Alternatively provide theta instead of n_delay\n",
    "theta = n_delay * dt\n",
    "x = [K, tau, theta, y_base, u_base, y_init]\n",
    "assert np.isclose(function_to_minimize(x), ssd)"
   ]
  },
  {
   "cell_type": "code",
   "execution_count": 14,
   "id": "19919794",
   "metadata": {},
   "outputs": [
    {
     "data": {
      "text/plain": [
       "[(np.float64(-85.37499999999989), np.float64(85.37499999999989)),\n",
       " (np.float64(15.02181818181818), np.float64(4406.4)),\n",
       " (0.0, np.float64(1321.9199999999998)),\n",
       " (np.float64(390.72511918274705), np.float64(609.2851191827467)),\n",
       " (np.float64(-1.1950056753688987), np.float64(11.604994324631102)),\n",
       " (np.float64(474.79), np.float64(584.0699999999999))]"
      ]
     },
     "execution_count": 14,
     "metadata": {},
     "output_type": "execute_result"
    }
   ],
   "source": [
    "# Set parameter bounds based on data characteristics\n",
    "y_mean = input_output_data['Output'].mean()\n",
    "y_range = input_output_data['Output'].max() - input_output_data['Output'].min()\n",
    "\n",
    "u_mean = input_output_data[input_col].mean()\n",
    "u_range = input_output_data[input_col].max() - input_output_data[input_col].min()\n",
    "\n",
    "time_span = input_output_data['Time'].max() - input_output_data['Time'].min()\n",
    "\n",
    "# Intelligent parameter bounds\n",
    "# Make sure these are in the same order as elements of x\n",
    "bounds = {\n",
    "    'K': (-5 * y_range / u_range, 5 * y_range / u_range),   # Process gain\n",
    "    'tau': (dt, time_span / 3),                             # Time constant\n",
    "    'theta': (0.0, time_span / 10),                         # Dead time\n",
    "    'y_base': (y_mean - 2 * y_range, y_mean + 2 * y_range), # Output baseline\n",
    "    'u_base': (u_mean - 2 * u_range, u_mean + 2 * u_range), # Input baseline\n",
    "    'y_init': (                                          # Initial output\n",
    "        input_output_data['Output'].iloc[0] - y_range, \n",
    "        input_output_data['Output'].iloc[0] + y_range\n",
    "    ),\n",
    "    #'mystery_del_t': (-0.1, 0.1)                            # Empirical correction\n",
    "}\n",
    "var_names = list(bounds.keys())\n",
    "bounds = list(bounds.values())\n",
    "bounds"
   ]
  },
  {
   "cell_type": "code",
   "execution_count": 36,
   "id": "ec45a837",
   "metadata": {},
   "outputs": [
    {
     "name": "stdout",
     "output_type": "stream",
     "text": [
      "Solution:\n",
      "K          -11.438583\n",
      "tau       4406.400000\n",
      "theta        7.510907\n",
      "y_base     416.289243\n",
      "u_base      11.604994\n",
      "y_init     518.337824\n",
      "dtype: float64\n"
     ]
    },
    {
     "data": {
      "image/png": "[encoded data removed]",
      "text/plain": [
       "<Figure size 700x250 with 1 Axes>"
      ]
     },
     "metadata": {},
     "output_type": "display_data"
    },
    {
     "name": "stdout",
     "output_type": "stream",
     "text": [
      "CPU times: user 345 ms, sys: 5.4 ms, total: 350 ms\n",
      "Wall time: 350 ms\n"
     ]
    }
   ],
   "source": [
    "%%time\n",
    "\n",
    "# Run Leapfrog optimizer\n",
    "sol = lpfgopt.minimize(function_to_minimize, bounds)\n",
    "assert sol.status == 0\n",
    "print(f\"Solution:\\n{pd.Series({name: x for name, x in zip(var_names, sol['x'])})}\")\n",
    "\n",
    "K, tau, theta, y_base, u_base, y_init = sol['x']\n",
    "n_delay = int(theta / dt + 0.5)\n",
    "y_model = simulate(K, tau, n_delay, y_base, u_base, y_init)\n",
    "\n",
    "plt.figure(figsize=(7, 2.5))\n",
    "plt.plot(t, input_output_data[\"Output\"].to_numpy(), label='data')\n",
    "plt.plot(t, y_model, label='y_model')\n",
    "plt.xlabel('Time')\n",
    "plt.grid()\n",
    "plt.legend()\n",
    "plt.tight_layout()\n",
    "plt.show()"
   ]
  },
  {
   "cell_type": "markdown",
   "id": "2605772f",
   "metadata": {},
   "source": [
    "## Check repeatability"
   ]
  },
  {
   "cell_type": "code",
   "execution_count": null,
   "id": "50fb44b7",
   "metadata": {},
   "outputs": [
    {
     "data": {
      "text/html": [
       "<div>\n",
       "<style scoped>\n",
       "    .dataframe tbody tr th:only-of-type {\n",
       "        vertical-align: middle;\n",
       "    }\n",
       "\n",
       "    .dataframe tbody tr th {\n",
       "        vertical-align: top;\n",
       "    }\n",
       "\n",
       "    .dataframe thead th {\n",
       "        text-align: right;\n",
       "    }\n",
       "</style>\n",
       "<table border=\"1\" class=\"dataframe\">\n",
       "  <thead>\n",
       "    <tr style=\"text-align: right;\">\n",
       "      <th></th>\n",
       "      <th>K</th>\n",
       "      <th>tau</th>\n",
       "      <th>theta</th>\n",
       "      <th>y_base</th>\n",
       "      <th>u_base</th>\n",
       "      <th>y_init</th>\n",
       "      <th>fun</th>\n",
       "    </tr>\n",
       "  </thead>\n",
       "  <tbody>\n",
       "    <tr>\n",
       "      <th>0</th>\n",
       "      <td>-12.250</td>\n",
       "      <td>443.053</td>\n",
       "      <td>56.292</td>\n",
       "      <td>477.937</td>\n",
       "      <td>6.853</td>\n",
       "      <td>533.770</td>\n",
       "      <td>4607.505</td>\n",
       "    </tr>\n",
       "    <tr>\n",
       "      <th>1</th>\n",
       "      <td>-12.584</td>\n",
       "      <td>524.808</td>\n",
       "      <td>0.000</td>\n",
       "      <td>578.560</td>\n",
       "      <td>-1.195</td>\n",
       "      <td>533.413</td>\n",
       "      <td>5203.026</td>\n",
       "    </tr>\n",
       "    <tr>\n",
       "      <th>2</th>\n",
       "      <td>15.900</td>\n",
       "      <td>2668.744</td>\n",
       "      <td>1321.920</td>\n",
       "      <td>390.725</td>\n",
       "      <td>-1.195</td>\n",
       "      <td>526.781</td>\n",
       "      <td>34606.826</td>\n",
       "    </tr>\n",
       "    <tr>\n",
       "      <th>3</th>\n",
       "      <td>35.127</td>\n",
       "      <td>4406.400</td>\n",
       "      <td>1321.920</td>\n",
       "      <td>606.167</td>\n",
       "      <td>8.518</td>\n",
       "      <td>527.928</td>\n",
       "      <td>30418.729</td>\n",
       "    </tr>\n",
       "    <tr>\n",
       "      <th>4</th>\n",
       "      <td>-12.584</td>\n",
       "      <td>524.808</td>\n",
       "      <td>0.031</td>\n",
       "      <td>478.828</td>\n",
       "      <td>6.730</td>\n",
       "      <td>533.413</td>\n",
       "      <td>5203.026</td>\n",
       "    </tr>\n",
       "    <tr>\n",
       "      <th>5</th>\n",
       "      <td>18.400</td>\n",
       "      <td>3144.073</td>\n",
       "      <td>1189.489</td>\n",
       "      <td>609.285</td>\n",
       "      <td>11.605</td>\n",
       "      <td>527.006</td>\n",
       "      <td>35663.830</td>\n",
       "    </tr>\n",
       "    <tr>\n",
       "      <th>6</th>\n",
       "      <td>35.127</td>\n",
       "      <td>4406.400</td>\n",
       "      <td>1321.920</td>\n",
       "      <td>428.139</td>\n",
       "      <td>3.450</td>\n",
       "      <td>527.928</td>\n",
       "      <td>30418.729</td>\n",
       "    </tr>\n",
       "    <tr>\n",
       "      <th>7</th>\n",
       "      <td>-12.420</td>\n",
       "      <td>484.065</td>\n",
       "      <td>22.573</td>\n",
       "      <td>478.238</td>\n",
       "      <td>6.802</td>\n",
       "      <td>533.590</td>\n",
       "      <td>4863.055</td>\n",
       "    </tr>\n",
       "    <tr>\n",
       "      <th>8</th>\n",
       "      <td>-12.584</td>\n",
       "      <td>524.811</td>\n",
       "      <td>0.000</td>\n",
       "      <td>578.560</td>\n",
       "      <td>-1.195</td>\n",
       "      <td>533.413</td>\n",
       "      <td>5203.026</td>\n",
       "    </tr>\n",
       "    <tr>\n",
       "      <th>9</th>\n",
       "      <td>35.127</td>\n",
       "      <td>4406.400</td>\n",
       "      <td>1321.920</td>\n",
       "      <td>390.725</td>\n",
       "      <td>2.385</td>\n",
       "      <td>527.928</td>\n",
       "      <td>30418.729</td>\n",
       "    </tr>\n",
       "  </tbody>\n",
       "</table>\n",
       "</div>"
      ],
      "text/plain": [
       "        K       tau     theta   y_base  u_base   y_init        fun\n",
       "0 -12.250   443.053    56.292  477.937   6.853  533.770   4607.505\n",
       "1 -12.584   524.808     0.000  578.560  -1.195  533.413   5203.026\n",
       "2  15.900  2668.744  1321.920  390.725  -1.195  526.781  34606.826\n",
       "3  35.127  4406.400  1321.920  606.167   8.518  527.928  30418.729\n",
       "4 -12.584   524.808     0.031  478.828   6.730  533.413   5203.026\n",
       "5  18.400  3144.073  1189.489  609.285  11.605  527.006  35663.830\n",
       "6  35.127  4406.400  1321.920  428.139   3.450  527.928  30418.729\n",
       "7 -12.420   484.065    22.573  478.238   6.802  533.590   4863.055\n",
       "8 -12.584   524.811     0.000  578.560  -1.195  533.413   5203.026\n",
       "9  35.127  4406.400  1321.920  390.725   2.385  527.928  30418.729"
      ]
     },
     "execution_count": 34,
     "metadata": {},
     "output_type": "execute_result"
    }
   ],
   "source": [
    "from collections import Counter\n",
    "\n",
    "solutions = []\n",
    "for _ in range(10):\n",
    "    sol = lpfgopt.minimize(function_to_minimize, bounds)\n",
    "    solutions.append(np.concatenate([sol['x'],[sol['fun']]]))\n",
    "solutions = np.stack(solutions)\n",
    "\n",
    "pd.DataFrame(solutions, columns=var_names +['fun']).round(3)"
   ]
  },
  {
   "cell_type": "code",
   "execution_count": null,
   "id": "3a7b69bf",
   "metadata": {},
   "outputs": [],
   "source": []
  },
  {
   "cell_type": "code",
   "execution_count": null,
   "id": "d70980bc",
   "metadata": {},
   "outputs": [],
   "source": []
  },
  {
   "cell_type": "code",
   "execution_count": null,
   "id": "5df886f1",
   "metadata": {},
   "outputs": [],
   "source": []
  }
 ],
 "metadata": {
  "kernelspec": {
   "display_name": "casadi",
   "language": "python",
   "name": "python3"
  },
  "language_info": {
   "codemirror_mode": {
    "name": "ipython",
    "version": 3
   },
   "file_extension": ".py",
   "mimetype": "text/x-python",
   "name": "python",
   "nbconvert_exporter": "python",
   "pygments_lexer": "ipython3",
   "version": "3.10.18"
  }
 },
 "nbformat": 4,
 "nbformat_minor": 5
}
