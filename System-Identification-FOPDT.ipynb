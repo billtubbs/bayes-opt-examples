{
 "cells": [
  {
   "cell_type": "markdown",
   "id": "c4b24fb0",
   "metadata": {},
   "source": [
    "# System Identification - FOPDT Model"
   ]
  },
  {
   "cell_type": "code",
   "execution_count": null,
   "id": "66c93faa",
   "metadata": {},
   "outputs": [],
   "source": [
    "import os\n",
    "import numpy as np\n",
    "import pandas as pd\n",
    "import matplotlib.pyplot as plt\n",
    "import scipy\n",
    "import skopt\n",
    "from skopt.space import Real, Integer\n",
    "from problems.optprob.problems import ( \n",
    "    solve_problem_with_optimizer,\n",
    "    solve_problem_with_optimizer_n_repeats\n",
    ")\n",
    "from problems.optprob.plot_utils import (\n",
    "    function_evaluations_plot, best_guesses_plot, best_guesses_plot_n_repeats\n",
    ")\n",
    "from problems.sys_id_fopdt import (\n",
    "    make_simulate_function,\n",
    "    rms_prediction_error,\n",
    "    SysIdFOPDT, \n",
    "    calculate_reasonable_bounds,\n",
    "    SysIdFOPDTRealDelay\n",
    ")\n",
    "\n",
    "import lpfgopt\n",
    "lpfgopt.__version__"
   ]
  },
  {
   "cell_type": "markdown",
   "id": "add5c8ec",
   "metadata": {},
   "source": [
    "## Load Input-Output Dataset"
   ]
  },
  {
   "cell_type": "code",
   "execution_count": null,
   "id": "44238695",
   "metadata": {},
   "outputs": [],
   "source": [
    "data_dir = 'data'\n",
    "plot_dir = 'plots'\n",
    "os.makedirs(plot_dir, exist_ok=True)\n",
    "os.listdir(data_dir)"
   ]
  },
  {
   "cell_type": "code",
   "execution_count": null,
   "id": "fd06d5bb",
   "metadata": {},
   "outputs": [],
   "source": [
    "filename = 'io_data_fopdt.csv'\n",
    "input_output_data = pd.read_csv(os.path.join(data_dir, filename))\n",
    "input_output_data"
   ]
  },
  {
   "cell_type": "code",
   "execution_count": null,
   "id": "17e17c30",
   "metadata": {},
   "outputs": [],
   "source": [
    "fig, axes = plt.subplots(3, 1, sharex=True, figsize=(7, 5.5))\n",
    "\n",
    "data = input_output_data.set_index('Time')\n",
    "\n",
    "for ax, name in zip(axes, data.columns):\n",
    "    data[name].plot(ax=ax, grid=True, title=name)\n",
    "\n",
    "plt.tight_layout()\n",
    "plt.show()"
   ]
  },
  {
   "cell_type": "markdown",
   "id": "4e5796fe",
   "metadata": {},
   "source": [
    "## Construct Simulation Function"
   ]
  },
  {
   "cell_type": "code",
   "execution_count": null,
   "id": "b2dbc035",
   "metadata": {},
   "outputs": [],
   "source": [
    "input_col = 'Input1'\n",
    "t = input_output_data['Time'].to_numpy()\n",
    "u_data = input_output_data[input_col].to_numpy()\n",
    "y_data = input_output_data['Output'].to_numpy()\n",
    "\n",
    "# Determine average time interval\n",
    "time_step_sizes = np.diff(t)\n",
    "dt = np.mean(time_step_sizes)\n",
    "assert np.max(np.abs(time_step_sizes - dt)) < dt / 10\n",
    "dt"
   ]
  },
  {
   "cell_type": "code",
   "execution_count": null,
   "id": "1136af62",
   "metadata": {},
   "outputs": [],
   "source": [
    "# Make simulation function\n",
    "simulate = make_simulate_function(dt, u_data)\n",
    "\n",
    "[-11.89612273, 360.83577464, 500.66886236, 534.13787627]\n",
    "\n",
    "# Test simulate function\n",
    "K = -10.0\n",
    "tau = 400.0\n",
    "n_delay = 2  # must be integer \n",
    "y_base = 500.0\n",
    "u_base = 5.0\n",
    "y_init = 530.0\n",
    "\n",
    "y_model = simulate(K, tau, n_delay, y_base, u_base, y_init)\n",
    "rms_prediction_error(y_model[n_delay+1:], y_data[n_delay+1:])"
   ]
  },
  {
   "cell_type": "code",
   "execution_count": null,
   "id": "017ff345",
   "metadata": {},
   "outputs": [],
   "source": [
    "plt.figure(figsize=(7, 2.5))\n",
    "plt.plot(t, input_output_data[\"Output\"].to_numpy(), label='data')\n",
    "plt.plot(t, y_model, label='y_model')\n",
    "plt.xlabel('Time')\n",
    "plt.grid()\n",
    "plt.legend()\n",
    "plt.tight_layout()\n",
    "plt.show()"
   ]
  },
  {
   "cell_type": "code",
   "execution_count": null,
   "id": "cb5eb49d",
   "metadata": {},
   "outputs": [],
   "source": [
    "%%timeit\n",
    "\n",
    "y_model = simulate(K, tau, n_delay, y_base, u_base, y_init)"
   ]
  },
  {
   "cell_type": "markdown",
   "id": "bc4ef2d5",
   "metadata": {},
   "source": [
    "## Construct Optimization Problem Class"
   ]
  },
  {
   "cell_type": "code",
   "execution_count": null,
   "id": "bf49047a",
   "metadata": {},
   "outputs": [],
   "source": [
    "bounds = calculate_reasonable_bounds(t, u_data, y_data)\n",
    "var_names = list(bounds.keys())\n",
    "bounds = list(bounds.values())\n",
    "bounds"
   ]
  },
  {
   "cell_type": "code",
   "execution_count": null,
   "id": "82ce2e5b",
   "metadata": {},
   "outputs": [],
   "source": [
    "# TODO: Include option to specify initial guess ranges\n",
    "# Low\tHigh\n",
    "# [-12\t-8]\n",
    "# [150\t200]\n",
    "# [150\t250]\n",
    "# [470\t500]\n",
    "# 5\t5  # Note: span is zero!  This is because the problem is overspecified.  I.e. one variable is redundant.  (Could have chosen y_base or y_init)\n",
    "# [470\t490]"
   ]
  },
  {
   "cell_type": "code",
   "execution_count": null,
   "id": "f222d5b5",
   "metadata": {},
   "outputs": [],
   "source": [
    "problem = SysIdFOPDT(bounds, dt, u_data, y_data)\n",
    "\n",
    "# Test cost function evaluation\n",
    "x = [K, tau, n_delay, y_base, y_init]\n",
    "rms_error = problem.cost_function_to_minimize(x, u_base=u_base)\n",
    "rms_error"
   ]
  },
  {
   "cell_type": "code",
   "execution_count": null,
   "id": "153f8adc",
   "metadata": {},
   "outputs": [],
   "source": [
    "# Global minimum\n",
    "K, tau, n_delay, y_base, y_init = [-12.38211837, 416.07825797, 6, 500.71792073, 535.87442099]\n",
    "\n",
    "x_global_minimum = K, tau, n_delay, y_base, y_init\n",
    "print(problem.cost_function_to_minimize(x_global_minimum))"
   ]
  },
  {
   "cell_type": "code",
   "execution_count": null,
   "id": "305e0c11",
   "metadata": {},
   "outputs": [],
   "source": [
    "y_model = simulate(K, tau, n_delay, y_base, u_base, y_init)\n",
    "\n",
    "plt.figure(figsize=(7, 2.5))\n",
    "plt.plot(t, input_output_data[\"Output\"].to_numpy(), label='data')\n",
    "plt.plot(t, y_model, label='y_model')\n",
    "plt.xlabel('Time')\n",
    "plt.grid()\n",
    "plt.legend()\n",
    "plt.title('Global Best Solution')\n",
    "plt.tight_layout()\n",
    "plt.show()"
   ]
  },
  {
   "cell_type": "code",
   "execution_count": null,
   "id": "dd406e00",
   "metadata": {},
   "outputs": [],
   "source": [
    "sol = solve_problem_with_optimizer(\n",
    "    problem, \n",
    "    lpfgopt.minimize, \n",
    "    problem.bounds,\n",
    "    discrete=[2],\n",
    "    points=50,\n",
    "    tol=0.01,\n",
    "    maxit=1000,\n",
    "    seedval=0\n",
    ")\n",
    "sol"
   ]
  },
  {
   "cell_type": "code",
   "execution_count": null,
   "id": "0e8b4189",
   "metadata": {},
   "outputs": [],
   "source": [
    "function_evaluations_plot(problem)\n",
    "plt.tight_layout()\n",
    "plt.show()"
   ]
  },
  {
   "cell_type": "code",
   "execution_count": null,
   "id": "cad55882",
   "metadata": {},
   "outputs": [],
   "source": [
    "best_guesses_plot(problem)\n",
    "plt.tight_layout()\n",
    "plt.show()"
   ]
  },
  {
   "cell_type": "code",
   "execution_count": null,
   "id": "fd3f99e1",
   "metadata": {},
   "outputs": [],
   "source": [
    "n_repeats = 100\n",
    "maxiter = 1000\n",
    "method = \"LeapFrog\"\n",
    "fun_evals, unique_solutions, best_guesses = solve_problem_with_optimizer_n_repeats(\n",
    "    problem, \n",
    "    lpfgopt.minimize, \n",
    "    n_repeats, \n",
    "    problem.bounds,\n",
    "    discrete=[2],\n",
    "    points=50,\n",
    "    tol=0.01,\n",
    "    maxit=maxiter,\n",
    ")\n",
    "ax = best_guesses_plot_n_repeats(fun_evals, title=f\"{problem.name} - {method} - {n_repeats} Trials\")\n",
    "ax.set_xlim([0, maxiter])\n",
    "plt.tight_layout()\n",
    "plt.savefig(os.path.join(plot_dir, f\"{problem.name}_{method}_convergence_plot_{n_repeats}.png\"), dpi=150)\n",
    "plt.show()"
   ]
  },
  {
   "cell_type": "code",
   "execution_count": null,
   "id": "11bea2dc",
   "metadata": {},
   "outputs": [],
   "source": [
    "best_guess = min(best_guesses)\n",
    "print(f\"f(x): {best_guess[0]}\")\n",
    "print(f\"x: {[float(x) for x in best_guess[1]]}\")"
   ]
  },
  {
   "cell_type": "code",
   "execution_count": null,
   "id": "a43d82bd",
   "metadata": {},
   "outputs": [],
   "source": [
    "x0 = [-12.382173313786181, 416.0781322544548, 6, 500.7178812643235, 535.8717305574411]\n",
    "\n",
    "f_final = problem(x0)\n",
    "assert f_final == 2.336465558781636\n",
    "\n",
    "# Fix n_delay to current value and reduce problem to 5 remaining variables\n",
    "f5 = lambda x: problem([x[0], x[1], 6, x[2], x[3]])\n",
    "\n",
    "x0 = [-12.382086606678401, 416.0675766336414, 500.71805709681706, 535.8744229434178]\n",
    "\n",
    "x0 = [-12.382173313786181, 416.0781322544548, 500.7178812643235, 535.8717305574411]\n",
    "assert f5(x0) == f_final\n",
    "f5(x0)"
   ]
  },
  {
   "cell_type": "code",
   "execution_count": null,
   "id": "3da7f534",
   "metadata": {},
   "outputs": [],
   "source": [
    "# Do additional gradient descent at this point.\n",
    "res = scipy.optimize.minimize(f5, x0=x0, tol=1e-6)\n",
    "assert res.status == 0\n",
    "res.fun, res.x"
   ]
  },
  {
   "cell_type": "markdown",
   "id": "4ea583b2",
   "metadata": {},
   "source": [
    "## Bayesian Optimization"
   ]
  },
  {
   "cell_type": "code",
   "execution_count": null,
   "id": "c25f3e1e",
   "metadata": {},
   "outputs": [],
   "source": [
    "bounds"
   ]
  },
  {
   "cell_type": "code",
   "execution_count": null,
   "id": "d21c9a80",
   "metadata": {},
   "outputs": [],
   "source": [
    "# Define dimensions - these should be the same as bounds above\n",
    "dimensions = [\n",
    "    Real(np.float64(-85.37499999999989), np.float64(85.37499999999989), transform='normalize'),\n",
    "    Real(np.float64(15.02181818181818), np.float64(4406.4), transform='normalize'),\n",
    "    Integer(0, 88),  # Integers don't need/support transform parameter\n",
    "    Real(np.float64(390.72511918274705), np.float64(609.2851191827467), transform='normalize'),\n",
    "    Real(np.float64(474.79), np.float64(584.0699999999999), transform='normalize')\n",
    "]\n",
    "\n",
    "dimensions"
   ]
  },
  {
   "cell_type": "code",
   "execution_count": null,
   "id": "f4c26a6e",
   "metadata": {},
   "outputs": [],
   "source": [
    "# Run Bayesian optimization\n",
    "# 250 Trials takes 15 mins\n",
    "problem.reset()\n",
    "res = skopt.gp_minimize(\n",
    "    problem,\n",
    "    dimensions,\n",
    "    n_calls=250,\n",
    "    noise=1e-10,\n",
    "    random_state=0,\n",
    "    n_initial_points=20,\n",
    "    verbose=True\n",
    ")\n",
    "res"
   ]
  },
  {
   "cell_type": "code",
   "execution_count": null,
   "id": "61dc6391",
   "metadata": {},
   "outputs": [],
   "source": [
    "res['x'], res['fun']"
   ]
  },
  {
   "cell_type": "code",
   "execution_count": null,
   "id": "08c8c75c",
   "metadata": {},
   "outputs": [],
   "source": [
    "problem.best_guess"
   ]
  },
  {
   "cell_type": "code",
   "execution_count": null,
   "id": "64c06b87",
   "metadata": {},
   "outputs": [],
   "source": [
    "function_evaluations_plot(problem)\n",
    "plt.tight_layout()\n",
    "plt.show()"
   ]
  },
  {
   "cell_type": "code",
   "execution_count": null,
   "id": "3e240ce2",
   "metadata": {},
   "outputs": [],
   "source": [
    "best_guesses_plot(problem)\n",
    "plt.tight_layout()\n",
    "plt.show()"
   ]
  },
  {
   "cell_type": "code",
   "execution_count": null,
   "id": "c408b3ac",
   "metadata": {},
   "outputs": [],
   "source": [
    "method = \"BayesOpt\"\n",
    "n_repeats = 10\n",
    "fun_evals, unique_solutions, best_guesses = solve_problem_with_optimizer_n_repeats(\n",
    "    problem,\n",
    "    skopt.gp_minimize,\n",
    "    n_repeats,\n",
    "    dimensions,\n",
    "    noise=1e-10,\n",
    "    n_calls=250,\n",
    "    n_initial_points=20,\n",
    ")\n",
    "unique_solutions"
   ]
  },
  {
   "cell_type": "code",
   "execution_count": null,
   "id": "289b8ac7",
   "metadata": {},
   "outputs": [],
   "source": [
    "title = f\"{problem.name} - {method} - {n_repeats} Trials\"\n",
    "ax = best_guesses_plot_n_repeats(fun_evals, title=title)\n",
    "plt.tight_layout()\n",
    "filename = f\"{problem.name}_{method}_convergence_plot_{n_repeats}.png\"\n",
    "plt.savefig(os.path.join(plot_dir, filename), dpi=150)\n",
    "plt.show()"
   ]
  },
  {
   "cell_type": "code",
   "execution_count": null,
   "id": "3a7b69bf",
   "metadata": {},
   "outputs": [],
   "source": [
    "min(best_guesses)"
   ]
  },
  {
   "cell_type": "code",
   "execution_count": null,
   "id": "d70980bc",
   "metadata": {},
   "outputs": [],
   "source": [
    "results_dir = \"results\"\n",
    "os.makedirs(results_dir, exist_ok=True)\n",
    "\n",
    "exp_name = f\"{problem.name}_{method}_{n_repeats}\"\n",
    "os.makedirs(os.path.join(results_dir, exp_name), exist_ok=True)\n",
    "\n",
    "# Save results\n",
    "np.save(os.path.join(results_dir, exp_name, \"fun_evals.npy\"), np.stack(fun_evals))\n",
    "best_guesses_x = np.stack([item[1] for item in best_guesses])\n",
    "assert best_guesses_x.shape == (n_repeats, 5)\n",
    "np.save(os.path.join(results_dir, exp_name, \"best_guesses_x.npy\"), best_guesses_x)\n",
    "best_guesses_fun = np.stack([item[0] for item in best_guesses])\n",
    "assert best_guesses_fun.shape == (n_repeats,)\n",
    "np.save(os.path.join(results_dir, exp_name, \"best_guesses_fun.npy\"), best_guesses_fun)"
   ]
  },
  {
   "cell_type": "markdown",
   "id": "7a2e6dc8",
   "metadata": {},
   "source": [
    "## Standard Derivative-Free Optimizers"
   ]
  },
  {
   "cell_type": "code",
   "execution_count": null,
   "id": "9e2acf66",
   "metadata": {},
   "outputs": [],
   "source": [
    "bounds = calculate_reasonable_bounds(t, u_data, y_data)\n",
    "bounds_real_delay = {(\"theta\" if name == \"n_delay\" else name): b for name, b in bounds.items()}\n",
    "bounds_real_delay['theta'] = tuple(b * dt for b in bounds_real_delay['theta'])\n",
    "bounds_real_delay"
   ]
  },
  {
   "cell_type": "code",
   "execution_count": null,
   "id": "358ac48f",
   "metadata": {},
   "outputs": [],
   "source": [
    "K = -12.38205772\n",
    "tau = 417.6967877\n",
    "theta = 94.32477261\n",
    "y_base = 500.7177154\n",
    "u_base = 5.0\n",
    "y_init = 535.8743564\n",
    "dt = 15.08"
   ]
  },
  {
   "cell_type": "code",
   "execution_count": null,
   "id": "91f9e0e0",
   "metadata": {},
   "outputs": [],
   "source": [
    "problem = SysIdFOPDTRealDelay(bounds_real_delay, dt, u_data, y_data)\n",
    "\n",
    "# Test cost function evaluation\n",
    "x = [K, tau, theta, y_base, y_init]\n",
    "rms_error = problem.cost_function_to_minimize(x, u_base=u_base)\n",
    "rms_error"
   ]
  },
  {
   "cell_type": "code",
   "execution_count": null,
   "id": "7ff239f8",
   "metadata": {},
   "outputs": [],
   "source": [
    "# Generate random start point within the bounds\n",
    "bounds_array = np.array(list(bounds_real_delay.values()))\n",
    "x0 = np.random.uniform(bounds_array[:, 0], bounds_array[:, 1], size=bounds_array.shape[0])\n",
    "\n",
    "sol = solve_problem_with_optimizer(\n",
    "    problem,\n",
    "    scipy.optimize.minimize,\n",
    "    x0,\n",
    "    method='Powell',\n",
    "    bounds=list(problem.bounds.values()),\n",
    "    tol=0.01,\n",
    "    options={'maxiter': 1000},\n",
    ")\n",
    "sol\n"
   ]
  },
  {
   "cell_type": "code",
   "execution_count": null,
   "id": "ef1ee705",
   "metadata": {},
   "outputs": [],
   "source": [
    "function_evaluations_plot(problem)\n",
    "plt.tight_layout()\n",
    "plt.show()"
   ]
  },
  {
   "cell_type": "code",
   "execution_count": null,
   "id": "21d8314f",
   "metadata": {},
   "outputs": [],
   "source": [
    "best_guesses_plot(problem)\n",
    "plt.tight_layout()\n",
    "plt.show()"
   ]
  },
  {
   "cell_type": "code",
   "execution_count": null,
   "id": "11125b37",
   "metadata": {},
   "outputs": [],
   "source": [
    "def make_scipy_minimizer_with_random_x0(init_range):\n",
    "    init_range_array = np.array(init_range)\n",
    "\n",
    "    def minimizer(fun, **kwargs):\n",
    "        x0 = np.random.uniform(init_range_array[:, 0], init_range_array[:, 1], size=len(init_range))\n",
    "        return scipy.optimize.minimize(fun, x0, **kwargs)\n",
    "\n",
    "    return minimizer\n",
    "\n",
    "\n",
    "scipy_minimizer = make_scipy_minimizer_with_random_x0(list(problem.bounds.values()))\n",
    "\n",
    "res = scipy_minimizer(\n",
    "    problem,\n",
    "    method='Powell',\n",
    "    bounds=list(problem.bounds.values()),\n",
    "    tol=0.01,\n",
    "    options={'maxiter': 1000}\n",
    ")\n",
    "assert res.status == 0\n",
    "res.fun, res.x"
   ]
  },
  {
   "cell_type": "code",
   "execution_count": null,
   "id": "4d54f080",
   "metadata": {},
   "outputs": [],
   "source": [
    "method = 'Nelder-Mead'\n",
    "n_repeats = 100\n",
    "maxiter = 1000\n",
    "fun_evals, unique_solutions, best_guesses = solve_problem_with_optimizer_n_repeats(\n",
    "    problem,\n",
    "    scipy_minimizer,\n",
    "    n_repeats,\n",
    "    method=method,\n",
    "    bounds=list(problem.bounds.values()),\n",
    "    tol=0.01,\n",
    "    options={'maxiter': 1000}\n",
    ")\n",
    "title = f\"{problem.name} - {method} - {n_repeats} Trials\"\n",
    "ax = best_guesses_plot_n_repeats(fun_evals, title=title)\n",
    "ax.set_xlim([0, maxiter])\n",
    "plt.tight_layout()\n",
    "filename = f\"{problem.name}_{method}_convergence_plot_{n_repeats}.png\"\n",
    "plt.savefig(os.path.join(plot_dir, filename), dpi=150)\n",
    "plt.show()"
   ]
  },
  {
   "cell_type": "code",
   "execution_count": null,
   "id": "b39bd7dd",
   "metadata": {},
   "outputs": [],
   "source": [
    "method = 'Powell'\n",
    "n_repeats = 100\n",
    "maxiter = 1000\n",
    "fun_evals, unique_solutions, best_guesses = solve_problem_with_optimizer_n_repeats(\n",
    "    problem,\n",
    "    scipy_minimizer,\n",
    "    n_repeats,\n",
    "    method=method,\n",
    "    bounds=list(problem.bounds.values()),\n",
    "    tol=0.01,\n",
    "    options={'maxiter': maxiter}\n",
    ")\n",
    "title=f\"{problem.name} - {method} - {n_repeats} Trials\"\n",
    "ax = best_guesses_plot_n_repeats(fun_evals, title=title)\n",
    "ax.set_xlim([0, maxiter])\n",
    "plt.tight_layout()\n",
    "filename = f\"{problem.name}_{method}_convergence_plot_{n_repeats}.png\"\n",
    "plt.savefig(os.path.join(plot_dir, filename), dpi=150)\n",
    "plt.show()"
   ]
  },
  {
   "cell_type": "code",
   "execution_count": null,
   "id": "08b3f30d",
   "metadata": {},
   "outputs": [],
   "source": [
    "method = 'LeapFrog'\n",
    "n_repeats = 100\n",
    "maxiter = 1000\n",
    "fun_evals, unique_solutions, best_guesses = solve_problem_with_optimizer_n_repeats(\n",
    "    problem,\n",
    "    lpfgopt.minimize,\n",
    "    n_repeats,\n",
    "    list(problem.bounds.values()),\n",
    "    points=50,\n",
    "    tol=0.01,\n",
    "    maxit=maxiter,\n",
    ")\n",
    "title = f\"{problem.name} - {method} - {n_repeats} Trials\"\n",
    "ax = best_guesses_plot_n_repeats(fun_evals, title=title)\n",
    "ax.set_xlim([0, maxiter])\n",
    "plt.tight_layout()\n",
    "filename = f\"{problem.name}_{method}_convergence_plot_{n_repeats}.png\"\n",
    "plt.savefig(os.path.join(plot_dir, filename), dpi=150)\n",
    "plt.show()"
   ]
  },
  {
   "cell_type": "code",
   "execution_count": null,
   "id": "01ea3374",
   "metadata": {},
   "outputs": [],
   "source": []
  },
  {
   "cell_type": "code",
   "execution_count": null,
   "id": "e9d5951d",
   "metadata": {},
   "outputs": [],
   "source": []
  },
  {
   "cell_type": "code",
   "execution_count": null,
   "id": "64874076",
   "metadata": {},
   "outputs": [],
   "source": []
  }
 ],
 "metadata": {
  "kernelspec": {
   "display_name": "casadi",
   "language": "python",
   "name": "python3"
  },
  "language_info": {
   "codemirror_mode": {
    "name": "ipython",
    "version": 3
   },
   "file_extension": ".py",
   "mimetype": "text/x-python",
   "name": "python",
   "nbconvert_exporter": "python",
   "pygments_lexer": "ipython3",
   "version": "3.10.18"
  }
 },
 "nbformat": 4,
 "nbformat_minor": 5
}
