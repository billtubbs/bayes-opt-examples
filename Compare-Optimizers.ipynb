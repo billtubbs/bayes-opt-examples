{
 "cells": [
  {
   "cell_type": "markdown",
   "metadata": {},
   "source": [
    "# Evaluate and Compare Optimizers\n",
    "\n",
    "Some classes and functions to allow different optimization algorithms to be compared."
   ]
  },
  {
   "cell_type": "code",
   "execution_count": null,
   "metadata": {},
   "outputs": [],
   "source": [
    "import numpy as np\n",
    "import matplotlib.pyplot as plt\n",
    "import scipy\n",
    "from dataclasses import dataclass\n",
    "import skopt\n",
    "\n",
    "import lpfgopt\n",
    "lpfgopt.__version__"
   ]
  },
  {
   "cell_type": "code",
   "execution_count": null,
   "metadata": {},
   "outputs": [],
   "source": [
    "from platform import python_version\n",
    "python_version()"
   ]
  },
  {
   "cell_type": "markdown",
   "metadata": {},
   "source": [
    "## Optimization Problem Definition"
   ]
  },
  {
   "cell_type": "code",
   "execution_count": null,
   "metadata": {},
   "outputs": [],
   "source": [
    "@dataclass\n",
    "class ConstrainedScalarOptimizationProblem():\n",
    "    _name: str\n",
    "    _guesses: list\n",
    "    _input_dim: int\n",
    "    _bounds: np.ndarray\n",
    "    _global_minimum: np.ndarray\n",
    "\n",
    "    def __init__(self, bounds, name=None, global_minimum=None):\n",
    "        self._bounds = bounds\n",
    "        self._input_dim = len(bounds)\n",
    "        self._name = name\n",
    "        self._global_minimum = global_minimum\n",
    "        self.reset()\n",
    "\n",
    "    def reset(self):\n",
    "        self._guesses = []\n",
    "\n",
    "    @property\n",
    "    def name(self) -> str:\n",
    "        return self._name\n",
    "\n",
    "    @property\n",
    "    def input_dim(self) -> tuple:\n",
    "        return self._input_dim\n",
    "\n",
    "    @property\n",
    "    def bounds(self) -> np.ndarray:\n",
    "        return self._bounds\n",
    "\n",
    "    @property\n",
    "    def global_minimum(self) -> np.ndarray:\n",
    "        return self._global_minimum\n",
    "\n",
    "    @property\n",
    "    def nfev(self) -> int:\n",
    "        return len(self._guesses)\n",
    "\n",
    "    @property\n",
    "    def guesses(self) -> list:\n",
    "        return self._guesses\n",
    "\n",
    "    @property\n",
    "    def best_guess(self) -> tuple:\n",
    "        return min(self._guesses)\n",
    "\n",
    "    @staticmethod\n",
    "    def cost_function_to_minimize(x, *args) -> float:\n",
    "        # Implement cost function to minimize here\n",
    "        cost = 0.0\n",
    "        return cost\n",
    "\n",
    "    def __call__(self, x, *args) -> float:\n",
    "        assert np.all(\n",
    "            (b[0] <= xi) and (xi <= b[1]) for b, xi in zip(self._bounds, x)\n",
    "        )\n",
    "        cost = self.cost_function_to_minimize(x, *args)\n",
    "        self._guesses.append((cost, x))\n",
    "        return cost\n"
   ]
  },
  {
   "cell_type": "markdown",
   "metadata": {},
   "source": [
    "### Example 1. Toy 1D Problem"
   ]
  },
  {
   "cell_type": "code",
   "execution_count": null,
   "metadata": {},
   "outputs": [],
   "source": [
    "class Toy1DProblem(ConstrainedScalarOptimizationProblem):\n",
    "\n",
    "    def __init__(self):\n",
    "        bounds = [(-5.0, 5.0)]\n",
    "        name = \"Toy1DProblem\"\n",
    "        super().__init__(bounds, name=name, global_minimum=[2.5085382557867626])\n",
    "\n",
    "    @staticmethod\n",
    "    def cost_function_to_minimize(x) -> float:\n",
    "        return 1.0 / (-0.05 * x[0] ** 2 - np.cos(x[0]) + 0.25 * np.sin(3 * x[0] + 0.8) + 5)\n",
    "\n",
    "\n",
    "# Test problem instance\n",
    "problem = Toy1DProblem()\n",
    "assert str(problem) == (\n",
    "    \"Toy1DProblem(_name='Toy1DProblem', _guesses=[], _input_dim=1, \"\n",
    "    \"_bounds=[(-5.0, 5.0)], _global_minimum=[2.5085382557867626])\"\n",
    ")\n",
    "assert problem.bounds == [(-5.,  5.)]\n",
    "assert problem.input_dim == 1\n",
    "assert problem.nfev == 0\n",
    "assert problem.guesses == []\n",
    "assert problem([0.5]) == 0.23275605031813504\n",
    "assert problem.guesses == [(0.23275605031813504, [0.5])]\n",
    "assert problem.nfev == 1\n",
    "assert problem([-5]) == 0.3108649328945798\n",
    "assert problem([5]) == 0.29041392127738885\n",
    "assert problem.nfev == 3\n",
    "assert problem.best_guess == (0.23275605031813504, [0.5])\n",
    "\n",
    "# Find global minimum using Scipy and a good initial guess\n",
    "sol = scipy.optimize.minimize(problem, x0=2.5, bounds=problem.bounds, tol=1e-15)\n",
    "assert sol.status == 0\n",
    "print(sol.fun, sol.x.item())\n",
    "assert np.array_equal(problem.global_minimum, sol.x)"
   ]
  },
  {
   "cell_type": "code",
   "execution_count": null,
   "metadata": {},
   "outputs": [],
   "source": [
    "X = np.linspace(-5, 5, 100).reshape(1, -1)\n",
    "Y = problem(X)\n",
    "\n",
    "min_pt = np.array([problem.global_minimum[0], problem(problem.global_minimum)])\n",
    "\n",
    "plt.plot(X.T, Y.T)\n",
    "plt.plot(*min_pt, 'ko')\n",
    "plt.annotate(f'Min: {min_pt.round(3)}', min_pt, xytext=(10, 0),\n",
    "             textcoords='offset points', va='center')\n",
    "plt.xlabel('x')\n",
    "plt.ylabel('f(x)')\n",
    "plt.title('Function to minimize')\n",
    "plt.grid()"
   ]
  },
  {
   "cell_type": "code",
   "execution_count": null,
   "metadata": {},
   "outputs": [],
   "source": [
    "def solve_problem_with_optimizer(problem, minimizer, *args, **kwargs):\n",
    "    problem.reset()\n",
    "    sol = minimizer(problem, *args, **kwargs)\n",
    "    return sol\n",
    "\n",
    "rng = np.random.default_rng(0)\n",
    "x0 = rng.uniform(*zip(*problem.bounds))\n",
    "sol = solve_problem_with_optimizer(problem, scipy.optimize.minimize, x0, bounds=problem.bounds)\n",
    "sol"
   ]
  },
  {
   "cell_type": "code",
   "execution_count": null,
   "metadata": {},
   "outputs": [],
   "source": [
    "def convergence_plot(problem, title=None):\n",
    "    if title is None:\n",
    "        title = f'Optimizer Convergence - {problem.name}'\n",
    "    fevals = np.array([item[0] for item in problem.guesses])\n",
    "    fig = plt.figure(figsize=(7, 2.5))\n",
    "    ax = fig.gca()\n",
    "    plt.semilogy(fevals, marker='.')\n",
    "    plt.xlabel('Number of function evaluations')\n",
    "    plt.ylabel('f(x)')\n",
    "    plt.grid()\n",
    "    plt.title(title)\n",
    "    return ax\n",
    "\n",
    "convergence_plot(problem)\n",
    "plt.tight_layout()\n",
    "plt.show()"
   ]
  },
  {
   "cell_type": "code",
   "execution_count": null,
   "metadata": {},
   "outputs": [],
   "source": [
    "solve_problem_with_optimizer(problem, lpfgopt.minimize, problem.bounds)"
   ]
  },
  {
   "cell_type": "code",
   "execution_count": null,
   "metadata": {},
   "outputs": [],
   "source": [
    "convergence_plot(problem)\n",
    "plt.tight_layout()\n",
    "plt.show()"
   ]
  },
  {
   "cell_type": "code",
   "execution_count": null,
   "metadata": {},
   "outputs": [],
   "source": [
    "# TODO: Plot variance of convergence results\n",
    "\n",
    "from collections import Counter\n",
    "\n",
    "def solve_problem_with_optimizer_n_repeats(\n",
    "    problem, minimizer, n_repeats, *args, decimals=6, **kwargs\n",
    "):\n",
    "\n",
    "    solutions = []\n",
    "    fun_evals = []\n",
    "    for i in range(n_repeats):\n",
    "        problem.reset()\n",
    "        sol = minimizer(problem, *args, **kwargs)\n",
    "        solutions.append(tuple(round(float(xi), decimals) for xi in sol.x))\n",
    "        fun_evals.append(np.array([f[0] for f in problem.guesses]))\n",
    "    unique_solutions = Counter(solutions)\n",
    "    return fun_evals, unique_solutions\n",
    "\n",
    "fun_evals, unique_solutions = solve_problem_with_optimizer_n_repeats(problem, lpfgopt.minimize, 20, problem.bounds, tol=1e-6)\n",
    "unique_solutions"
   ]
  },
  {
   "cell_type": "code",
   "execution_count": null,
   "metadata": {},
   "outputs": [],
   "source": [
    "def convergence_plot_n_repeats(fun_evals, title=None, marker='auto', color='tab:blue', alpha=0.25):\n",
    "\n",
    "    n_repeats = len(fun_evals)\n",
    "\n",
    "    if title is None:\n",
    "        title = f'Optimizer Convergence - {n_repeats} Iterations'\n",
    "\n",
    "    # Find the maximum length among all sequences\n",
    "    max_len = max(len(f) for f in fun_evals)\n",
    "\n",
    "    # Extend all sequences to the same length by repeating their final value\n",
    "    series_array = np.full((n_repeats, max_len), np.nan)\n",
    "    for i, f in enumerate(fun_evals):\n",
    "        n = len(f)\n",
    "        series_array[i, :n] = f\n",
    "        series_array[i, n:] = f[-1]\n",
    "\n",
    "    # Calculate min, max, and median across all series at each iteration\n",
    "    min_vals = np.min(series_array, axis=0)\n",
    "    max_vals = np.max(series_array, axis=0)\n",
    "    median_vals = np.median(series_array, axis=0)\n",
    "\n",
    "    # Create the plot\n",
    "    fig = plt.figure(figsize=(7, 2.5))\n",
    "    ax = fig.gca()\n",
    "\n",
    "    # Plot the median line\n",
    "    if marker == 'auto':\n",
    "        marker = '.' if max_len < 20 else None\n",
    "    x = np.arange(max_len)\n",
    "    ax.semilogy(x, median_vals, marker=marker, color=color, label='Median')\n",
    "\n",
    "    # Fill between min and max\n",
    "    ax.fill_between(x, min_vals, max_vals, alpha=alpha, color=color, label='Min-Max Range')\n",
    "\n",
    "    plt.xlabel('Number of function evaluations')\n",
    "    plt.ylabel('f(x)')\n",
    "    plt.grid()\n",
    "    plt.title(title)\n",
    "    plt.legend()\n",
    "    \n",
    "    return ax"
   ]
  },
  {
   "cell_type": "code",
   "execution_count": null,
   "metadata": {},
   "outputs": [],
   "source": [
    "ax = convergence_plot_n_repeats(fun_evals)"
   ]
  },
  {
   "cell_type": "markdown",
   "metadata": {},
   "source": [
    "## Bayesian Optimization Minimizer"
   ]
  },
  {
   "cell_type": "code",
   "execution_count": null,
   "metadata": {},
   "outputs": [],
   "source": [
    "# Run Bayesian optimization\n",
    "problem.reset()\n",
    "res = skopt.gp_minimize(\n",
    "    problem,            # the function to minimize\n",
    "    problem.bounds,     # the bounds on each dimension of x\n",
    "    n_calls=50,\n",
    "    noise=1e-10,\n",
    "    random_state=0\n",
    ")\n",
    "res"
   ]
  },
  {
   "cell_type": "code",
   "execution_count": null,
   "metadata": {},
   "outputs": [],
   "source": [
    "res['x'], res['fun']"
   ]
  },
  {
   "cell_type": "code",
   "execution_count": null,
   "metadata": {},
   "outputs": [],
   "source": [
    "problem.best_guess"
   ]
  },
  {
   "cell_type": "code",
   "execution_count": null,
   "metadata": {},
   "outputs": [],
   "source": [
    "fun_evals, unique_solutions = solve_problem_with_optimizer_n_repeats(\n",
    "    problem, skopt.gp_minimize, 20, problem.bounds, noise=1e-10, n_calls=50\n",
    ")\n",
    "unique_solutions"
   ]
  },
  {
   "cell_type": "code",
   "execution_count": null,
   "metadata": {},
   "outputs": [],
   "source": [
    "ax = convergence_plot_n_repeats(fun_evals)"
   ]
  },
  {
   "cell_type": "code",
   "execution_count": null,
   "metadata": {},
   "outputs": [],
   "source": []
  },
  {
   "cell_type": "code",
   "execution_count": null,
   "metadata": {},
   "outputs": [],
   "source": []
  },
  {
   "cell_type": "code",
   "execution_count": null,
   "metadata": {},
   "outputs": [],
   "source": []
  },
  {
   "cell_type": "code",
   "execution_count": null,
   "metadata": {},
   "outputs": [],
   "source": []
  }
 ],
 "metadata": {
  "kernelspec": {
   "display_name": "casadi",
   "language": "python",
   "name": "python3"
  },
  "language_info": {
   "codemirror_mode": {
    "name": "ipython",
    "version": 3
   },
   "file_extension": ".py",
   "mimetype": "text/x-python",
   "name": "python",
   "nbconvert_exporter": "python",
   "pygments_lexer": "ipython3",
   "version": "3.10.18"
  }
 },
 "nbformat": 4,
 "nbformat_minor": 4
}
